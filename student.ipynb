{
 "cells": [
  {
   "cell_type": "markdown",
   "metadata": {},
   "source": [
    "## Final Project Submission\n",
    "\n",
    "Please fill out:\n",
    "* Student name: VALENTINE MARANGALA KWEYU\n",
    "* Student pace: part time\n",
    "* Scheduled project review date/time: \n",
    "* Instructor name: MWIKALI\n",
    "* Blog post URL: \n"
   ]
  },
  {
   "cell_type": "markdown",
   "metadata": {},
   "source": [
    "## PROJECT OVERVIEW\n",
    "For this project, we will use data cleaning, imputation, analysis, and visualization to generate insights for a business stakeholder interested in purchasing and operating airplanes for commercial & private enterprises.\n",
    "\n",
    "### Business Problem\n",
    "The company is expanding in to new industries to diversify its portfolio. Specifically, the company is interested in purchasing and operating aircrafts for commercial and private enterprises, but is clueless about the potential risks of aircraft. This project wil be used as a criteria to determine which aircraft has the lowest risk of accidents, for the company to start this new business endeavor. The findings will be converted to actionable insights to aid head of the new aviation division decide which aircraft to purchase.\n",
    "\n",
    "### Goals\n",
    "* To identify which aircraft models have the lowest accidents.\n",
    "* to identify how external factors impact the risk.\n",
    "* To assess whether specific features in the aircraft is associated with lower risks. \n",
    "\n"
   ]
  },
  {
   "cell_type": "code",
   "execution_count": 4,
   "metadata": {},
   "outputs": [],
   "source": [
    "# Your code here - remember to use markdown cells for comments as well!\n"
   ]
  }
 ],
 "metadata": {
  "kernelspec": {
   "display_name": "learn-env",
   "language": "python",
   "name": "python3"
  },
  "language_info": {
   "codemirror_mode": {
    "name": "ipython",
    "version": 3
   },
   "file_extension": ".py",
   "mimetype": "text/x-python",
   "name": "python",
   "nbconvert_exporter": "python",
   "pygments_lexer": "ipython3",
   "version": "3.8.5"
  }
 },
 "nbformat": 4,
 "nbformat_minor": 2
}
